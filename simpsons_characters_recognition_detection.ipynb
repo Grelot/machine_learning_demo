{
 "cells": [
  {
   "cell_type": "markdown",
   "metadata": {},
   "source": [
    "# Reconnaissance et detection des personnages dans les Simpsons en utilisant les méthodes de réseaux de neurones artificiels\n",
    "\n",
    "**Pierre-Edouard GUERIN**\n",
    "\n",
    "18/12/2019\n",
    "__________________\n",
    "\n",
    "# 1. Introduction\n",
    "\n",
    "\n",
    "## Contexte\n",
    "\n",
    "Un jeu de donnée complet d'images annotées des personnages de la série animé les Simpsons est disponible ici : https://www.kaggle.com/alexattia/the-simpsons-characters-dataset\n",
    "\n",
    "\n",
    "\n",
    "\n",
    "## Mission\n",
    "\n",
    "## Script"
   ]
  },
  {
   "cell_type": "code",
   "execution_count": null,
   "metadata": {},
   "outputs": [],
   "source": []
  }
 ],
 "metadata": {
  "kernelspec": {
   "display_name": "Python 3",
   "language": "python",
   "name": "python3"
  },
  "language_info": {
   "codemirror_mode": {
    "name": "ipython",
    "version": 3
   },
   "file_extension": ".py",
   "mimetype": "text/x-python",
   "name": "python",
   "nbconvert_exporter": "python",
   "pygments_lexer": "ipython3",
   "version": "3.6.9"
  }
 },
 "nbformat": 4,
 "nbformat_minor": 4
}
