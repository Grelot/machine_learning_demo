{
 "cells": [
  {
   "cell_type": "markdown",
   "metadata": {},
   "source": [
    "# Reconnaissance et detection des personnages dans les Simpsons en utilisant les méthodes de réseaux de neurones artificiels\n",
    "\n",
    "**Pierre-Edouard GUERIN**\n",
    "\n",
    "18/12/2019\n",
    "__________________\n",
    "\n",
    "# Introduction\n",
    "\n",
    "\n",
    "## Contexte\n",
    "\n",
    "Un jeu de donnée complet d'images annotées des personnages de la série animé les Simpsons est disponible ici : https://www.kaggle.com/alexattia/the-simpsons-characters-dataset\n",
    "\n",
    "En apprentissage automatique, un réseau de neurones convolutifs (CNN) est un type de réseau de neurones artificiels, dans lequel le motif de connexion entre les neurones est inspiré par le cortex visuel des animaux. L'idée est d'utiliser cette méthode pour créer un programme capable de detecter les différents personnages dans une video des Simpsons et de quantifier leur temps de présence pendant la video.\n",
    "\n",
    "\n",
    "## Mission\n",
    "\n",
    "L'objectif est de\n",
    "\n",
    "\n",
    "## Script\n",
    "\n",
    "a finir\n",
    "\n",
    "# Prérequis"
   ]
  },
  {
   "cell_type": "code",
   "execution_count": 8,
   "metadata": {},
   "outputs": [],
   "source": [
    "import os\n",
    "import random\n",
    "import numpy as np\n",
    "from PIL import Image\n",
    "\n",
    "import matplotlib.pyplot as plt\n",
    "import matplotlib.patches as patches\n",
    "from matplotlib.font_manager import FontProperties\n",
    "import scipy\n",
    "import cv2\n",
    "%matplotlib inline\n",
    "\n",
    "np.random.seed(2)\n",
    "\n",
    "from sklearn.metrics import confusion_matrix\n",
    "import itertools\n",
    "\n",
    "from keras.utils.np_utils import to_categorical # convert to one-hot-encoding\n",
    "from keras.models import Sequential\n",
    "from keras.layers import Dense, Dropout, Flatten, Conv2D, MaxPool2D, BatchNormalization\n",
    "from keras.optimizers import RMSprop\n",
    "from keras.preprocessing.image import ImageDataGenerator\n",
    "from keras.callbacks import ReduceLROnPlateau, ModelCheckpoint\n",
    "from keras.models import model_from_json\n",
    "\n",
    "\n",
    "from skimage.transform import resize\n",
    "from skimage import data\n",
    "\n",
    "import warnings\n",
    "\n",
    "warnings.filterwarnings('ignore')"
   ]
  },
  {
   "cell_type": "markdown",
   "metadata": {},
   "source": [
    "# Charger, formater et explorer le jeu de données"
   ]
  },
  {
   "cell_type": "code",
   "execution_count": 9,
   "metadata": {},
   "outputs": [],
   "source": [
    "## prepare data\n",
    "dict_characters = {0: 'abraham_grampa_simpson', 1: 'apu_nahasapeemapetilon', 2: 'bart_simpson', \n",
    "        3: 'charles_montgomery_burns', 4: 'chief_wiggum', 5: 'comic_book_guy', 6: 'edna_krabappel', \n",
    "        7: 'homer_simpson', 8: 'kent_brockman', 9: 'krusty_the_clown', 10: 'lenny_leonard', 11:'lisa_simpson',\n",
    "        12: 'marge_simpson', 13: 'mayor_quimby',14:'milhouse_van_houten', 15: 'moe_szyslak', \n",
    "        16: 'ned_flanders', 17: 'nelson_muntz', 18: 'principal_skinner', 19: 'sideshow_bob'}"
   ]
  },
  {
   "cell_type": "code",
   "execution_count": 13,
   "metadata": {},
   "outputs": [],
   "source": [
    "def load_train_set(dirname,dict_characters):\n",
    "    \"\"\"load train data\"\"\"\n",
    "    X_train = []\n",
    "    Y_train = []\n",
    "    for label, character in dict_characters.items():\n",
    "        list_images = os.listdir(dirname+'/'+character)\n",
    "        for image_name in list_images:\n",
    "            image =  plt.imread(dirname+'/'+character+'/'+image_name)            \n",
    "            X_train.append(resize(image,(64,64)))\n",
    "            Y_train.append(label)\n",
    "    return np.array(X_train), np.array(Y_train)"
   ]
  },
  {
   "cell_type": "code",
   "execution_count": 17,
   "metadata": {},
   "outputs": [],
   "source": [
    "def load_test_set(dirname,dict_characters):\n",
    "    \"\"\"load test data\"\"\"\n",
    "    X_test = []\n",
    "    Y_test = []\n",
    "    for image_name in os.listdir(dirname):\n",
    "        character_name = \"_\".join(image_name.split('_')[:-1])\n",
    "        label = [label for label,character in dict_characters.items() if character == character_name][0]\n",
    "        image = plt.imread(dirname+'/'+image_name)\n",
    "        X_test.append(resize(image,(64,64)))\n",
    "        Y_test.append(label)\n",
    "    return np.array(X_test), np.array(Y_test)"
   ]
  },
  {
   "cell_type": "code",
   "execution_count": 14,
   "metadata": {},
   "outputs": [],
   "source": [
    "## load train data\n",
    "X_train, Y_train = load_train_set(\"data/simpsons_characters_recognition_detection/the-simpsons-characters-dataset/simpsons_dataset/\", dict_characters)       \n"
   ]
  },
  {
   "cell_type": "code",
   "execution_count": 18,
   "metadata": {},
   "outputs": [],
   "source": [
    "## load test data\n",
    "X_test, Y_test = load_test_set(\"data/simpsons_characters_recognition_detection/the-simpsons-characters-dataset/kaggle_simpson_testset/\", dict_characters)"
   ]
  },
  {
   "cell_type": "markdown",
   "metadata": {},
   "source": [
    "# Normalization\n"
   ]
  },
  {
   "cell_type": "markdown",
   "metadata": {},
   "source": [
    "In order to alleviate brightness variation contribution to the CNN model (we want a model able to recognize a character not a luminosity value), I have to grayscale images."
   ]
  },
  {
   "cell_type": "code",
   "execution_count": 20,
   "metadata": {},
   "outputs": [],
   "source": [
    "## Scale data\n",
    "X_train = X_train / 255.0\n",
    "X_test = X_test / 255.0"
   ]
  },
  {
   "cell_type": "code",
   "execution_count": null,
   "metadata": {},
   "outputs": [],
   "source": []
  }
 ],
 "metadata": {
  "kernelspec": {
   "display_name": "Python 3",
   "language": "python",
   "name": "python3"
  },
  "language_info": {
   "codemirror_mode": {
    "name": "ipython",
    "version": 3
   },
   "file_extension": ".py",
   "mimetype": "text/x-python",
   "name": "python",
   "nbconvert_exporter": "python",
   "pygments_lexer": "ipython3",
   "version": "3.6.9"
  }
 },
 "nbformat": 4,
 "nbformat_minor": 4
}
